{
 "cells": [
  {
   "cell_type": "code",
   "execution_count": null,
   "metadata": {
    "id": "nmnP0OoaJ4pP"
   },
   "outputs": [],
   "source": [
    "!nvidia-smi"
   ]
  },
  {
   "cell_type": "markdown",
   "metadata": {
    "id": "EaIVNeQDIdaB"
   },
   "source": [
    "## Setup environment"
   ]
  },
  {
   "cell_type": "code",
   "execution_count": null,
   "metadata": {
    "colab": {
     "base_uri": "https://localhost:8080/"
    },
    "executionInfo": {
     "elapsed": 58587,
     "status": "ok",
     "timestamp": 1667727198633,
     "user": {
      "displayName": "22",
      "userId": "12730652554089239437"
     },
     "user_tz": -480
    },
    "id": "Oj2GFXrhLdJ9",
    "outputId": "6330e29a-38e7-43a1-d5a2-bddf86d9d07d"
   },
   "outputs": [],
   "source": [
    "# sync python module\n",
    "%load_ext autoreload\n",
    "%autoreload 2"
   ]
  },
  {
   "cell_type": "markdown",
   "metadata": {
    "id": "wjHHXsxrY_GO"
   },
   "source": [
    "## Setup config"
   ]
  },
  {
   "cell_type": "code",
   "execution_count": 45,
   "metadata": {},
   "outputs": [
    {
     "name": "stdout",
     "output_type": "stream",
     "text": [
      "/nfs/Workspace/CardiacSegV2/exps/exps/unest/mmwhs2\n"
     ]
    }
   ],
   "source": [
    "import os\n",
    "\n",
    "workspace_dir = '/nfs/Workspace/CardiacSegV2'\n",
    "model_name = 'unest' #unet3d attention_unet DynUNet cotr unetr swinunetr unetcnx_a1 unest testnet\n",
    "data_name = 'mmwhs2'\n",
    "sub_data_dir_name = 'mmwhs_train'\n",
    "exp_name = 'exp_mmwhs_2' #exp_mmwhs_2_511_lr5_res_cbam_bv5_vv2\n",
    "data_dict_file_name = 'exp_mmwhs2.json'\n",
    "\n",
    "tune_mode = 'test'\n",
    "\n",
    "\n",
    "root_exp_dir = os.path.join(\n",
    "    workspace_dir, \n",
    "    'exps',\n",
    "    'exps',\n",
    "    model_name,\n",
    "    data_name,\n",
    "    'tune_results'\n",
    ")\n",
    "\n",
    "root_data_dir = os.path.join(\n",
    "    workspace_dir, \n",
    "    'dataset',\n",
    "    data_name\n",
    ")\n",
    "\n",
    "# data_dir = os.path.join(root_data_dir)\n",
    "data_dir = os.path.join(root_data_dir, sub_data_dir_name)\n",
    "data_dicts_json = os.path.join(workspace_dir, 'exps', 'data_dicts', data_name, data_dict_file_name)\n",
    "\n",
    "model_dir = os.path.join('./', 'models')\n",
    "log_dir = os.path.join('./', 'logs')\n",
    "eval_dir = os.path.join('./', 'evals')\n",
    "\n",
    "best_checkpoint = os.path.join(model_dir, 'best_model.pth')\n",
    "final_checkpoint = os.path.join(model_dir, 'final_model.pth')\n",
    "\n",
    "pretrain_exp_name = 'exp_50'\n",
    "pretrain_data_name = 'image_cas'\n",
    "pretrain_model_dir = os.path.join(\n",
    "    workspace_dir,\n",
    "    'exps',\n",
    "    'exps',\n",
    "    model_name,\n",
    "    pretrain_data_name,\n",
    "    'pretrain',\n",
    "    pretrain_exp_name,\n",
    "    'models'\n",
    ")\n",
    "pretrain_checkpoint = os.path.join(pretrain_model_dir, 'model_bestValRMSE.pt')\n",
    "\n",
    "os.makedirs(root_exp_dir, exist_ok=True)\n",
    "\n",
    "%cd {root_exp_dir}/../"
   ]
  },
  {
   "cell_type": "markdown",
   "metadata": {},
   "source": [
    "## Train TestNet"
   ]
  },
  {
   "cell_type": "code",
   "execution_count": null,
   "metadata": {},
   "outputs": [],
   "source": [
    "# training\n",
    "!PYTHONPATH=/nfs/Workspace/CardiacSegV2 /opt/conda/bin/python /nfs/Workspace/CardiacSegV2/expers/tune.py \\\n",
    "--tune_mode={tune_mode} \\\n",
    "--exp_name={exp_name} \\\n",
    "--data_name={data_name} \\\n",
    "--data_dir={data_dir} \\\n",
    "--root_exp_dir={root_exp_dir} \\\n",
    "--model_name={model_name}\\\n",
    "--model_dir={model_dir} \\\n",
    "--log_dir={log_dir} \\\n",
    "--eval_dir={eval_dir} \\\n",
    "--start_epoch=0 \\\n",
    "--val_every=20 \\\n",
    "--max_early_stop_count=20 \\\n",
    "--max_epoch=8000  \\\n",
    "--data_dicts_json={data_dicts_json} \\\n",
    "--pin_memory \\\n",
    "--out_channels=2 \\\n",
    "--patch_size=2 \\\n",
    "--feature_size=48 \\\n",
    "--drop_rate=0.1 \\\n",
    "--depths 3 3 9 3 \\\n",
    "--kernel_size 7 \\\n",
    "--exp_rate 4 \\\n",
    "--norm_name='layer' \\\n",
    "--a_min=-70 \\\n",
    "--a_max=677 \\\n",
    "--space_x=1.0 \\\n",
    "--space_y=1.0 \\\n",
    "--space_z=1.0 \\\n",
    "--roi_x=96 \\\n",
    "--roi_y=96 \\\n",
    "--roi_z=96 \\\n",
    "--optim='AdamW' \\\n",
    "--lr=6e-4 \\\n",
    "--weight_decay=5e-4 \\\n",
    "--checkpoint={final_checkpoint} \\\n",
    "--use_init_weights \\\n",
    "--deep_sup \\\n",
    "--infer_post_process \\\n",
    "--resume_tuner \\\n",
    "--test_mode \\\n",
    "--save_eval_csv"
   ]
  },
  {
   "cell_type": "markdown",
   "metadata": {
    "id": "3dfeJTv8ZETs",
    "tags": []
   },
   "source": [
    "## Train UNETCNX"
   ]
  },
  {
   "cell_type": "code",
   "execution_count": null,
   "metadata": {
    "colab": {
     "base_uri": "https://localhost:8080/"
    },
    "executionInfo": {
     "elapsed": 5212593,
     "status": "ok",
     "timestamp": 1667732466402,
     "user": {
      "displayName": "22",
      "userId": "12730652554089239437"
     },
     "user_tz": -480
    },
    "id": "Pc5UecWCYizV",
    "outputId": "92365bec-cd7e-4561-b607-43d9f3520dd9",
    "tags": []
   },
   "outputs": [],
   "source": [
    "# training\n",
    "!PYTHONPATH={workspace_dir} /opt/conda/bin/python {workspace_dir}/expers/tune.py \\\n",
    "--tune_mode={tune_mode} \\\n",
    "--exp_name={exp_name} \\\n",
    "--data_name={data_name} \\\n",
    "--data_dir={data_dir} \\\n",
    "--root_exp_dir={root_exp_dir} \\\n",
    "--model_name={model_name}\\\n",
    "--model_dir={model_dir} \\\n",
    "--log_dir={log_dir} \\\n",
    "--eval_dir={eval_dir} \\\n",
    "--start_epoch=0 \\\n",
    "--val_every=20 \\\n",
    "--max_early_stop_count=20 \\\n",
    "--max_epoch=8000  \\\n",
    "--data_dicts_json={data_dicts_json} \\\n",
    "--pin_memory \\\n",
    "--out_channels=2 \\\n",
    "--patch_size=4 \\\n",
    "--feature_size=48 \\\n",
    "--drop_rate=0.1 \\\n",
    "--depths 3 3 9 3 \\\n",
    "--kernel_size 7 \\\n",
    "--exp_rate 4 \\\n",
    "--norm_name='layer' \\\n",
    "--a_min=-70 \\\n",
    "--a_max=677 \\\n",
    "--space_x=1.0 \\\n",
    "--space_y=1.0 \\\n",
    "--space_z=1.0 \\\n",
    "--roi_x=96 \\\n",
    "--roi_y=96 \\\n",
    "--roi_z=96 \\\n",
    "--optim='AdamW' \\\n",
    "--lr=7e-4 \\\n",
    "--weight_decay=5e-4 \\\n",
    "--checkpoint={final_checkpoint} \\\n",
    "--use_init_weights \\\n",
    "--deep_sup \\\n",
    "--infer_post_process \\\n",
    "--resume_tuner \\\n",
    "--test_mode \\\n",
    "--save_eval_csv"
   ]
  },
  {
   "cell_type": "markdown",
   "metadata": {},
   "source": [
    "## Train other model"
   ]
  },
  {
   "cell_type": "code",
   "execution_count": 46,
   "metadata": {},
   "outputs": [
    {
     "name": "stdout",
     "output_type": "stream",
     "text": [
      "Package pickle5 becomes unnecessary in Python 3.8 and above. Its presence may confuse libraries including Ray. Please uninstall the package.\n",
      "test mode\n",
      "resume tuner form /nfs/Workspace/CardiacSegV2/exps/exps/unest/mmwhs2/tune_results\n",
      "Passing in the experiment's `trainable` will be a required argument to `Tuner.restore` starting from version 2.5. Please specify the trainable to avoid this warning.\n",
      "run test mode ...\n",
      "cuda is available\n",
      "model: unest\n",
      "loss: dice ce loss\n",
      "optimzer: AdamW\n",
      "{'lr': 0.0005, 'weight_decay': 0.0005}\n",
      "=> loaded checkpoint '/nfs/Workspace/CardiacSegV2/exps/exps/unest/mmwhs2/tune_results/exp_mmwhs_2/main_dd2da_00000_0_exp=exp_exp_mmwhs_2_2024-06-11_09-42-06/models/best_model.pth' (epoch 21) (bestacc 0.7764390707015991) (early stop count 0)\n",
      "load json from /nfs/Workspace/CardiacSegV2/exps/data_dicts/mmwhs2/exp_mmwhs2.json\n",
      "train files (12): ['ct_train_1005_image', 'ct_train_1006_image', 'ct_train_1007_image', 'ct_train_1008_image', 'ct_train_1009_image', 'ct_train_1010_image', 'ct_train_1011_image', 'ct_train_1012_image', 'ct_train_1013_image', 'ct_train_1014_image', 'ct_train_1015_image', 'ct_train_1016_image']\n",
      "val files (4): ['ct_train_1017_image', 'ct_train_1018_image', 'ct_train_1019_image', 'ct_train_1020_image']\n",
      "test files (4): ['ct_train_1001_image', 'ct_train_1002_image', 'ct_train_1003_image', 'ct_train_1004_image']\n",
      "infer data: {'image': '/nfs/Workspace/CardiacSegV2/dataset/mmwhs2/mmwhs_train/ct_train_1001/ct_train_1001_image.nii.gz', 'label': '/nfs/Workspace/CardiacSegV2/dataset/mmwhs2/mmwhs_train/ct_train_1001/ct_train_1001_label.nii.gz'}\n",
      "monai.transforms.io.dictionary LoadImaged.__init__:image_only: Current default value of argument `image_only=False` has been deprecated since version 1.1. It will be changed to `image_only=True` in version 1.3.\n",
      "<class 'monai.transforms.utility.dictionary.AddChanneld'>: Class `AddChanneld` has been deprecated since version 0.8. It will be removed in version 1.3. please use MetaTensor data type and monai.transforms.EnsureChannelFirstd instead with `channel_dim='no_channel'`.\n",
      "monai.transforms.utility.dictionary EnsureChannelFirstd.__init__:meta_keys: Argument `meta_keys` has been deprecated since version 0.9. not needed if image is type `MetaTensor`.\n",
      "infer time: 2.5049901008605957 sec\n",
      "use post process infer\n",
      "<class 'monai.transforms.utility.array.AddChannel'>: Class `AddChannel` has been deprecated since version 0.8. It will be removed in version 1.3. please use MetaTensor data type and monai.transforms.EnsureChannelFirst instead with `channel_dim='no_channel'`.\n",
      "infer test time aug:\n",
      "dice: 0.73898524\n",
      "hd95: 23.999964\n",
      "infer test original:\n",
      "dice: 0.7366611\n",
      "hd95: 69.649124\n",
      "sensitivity: 0.6909398\n",
      "specificity: 0.9957299\n",
      "infer data: {'image': '/nfs/Workspace/CardiacSegV2/dataset/mmwhs2/mmwhs_train/ct_train_1002/ct_train_1002_image.nii.gz', 'label': '/nfs/Workspace/CardiacSegV2/dataset/mmwhs2/mmwhs_train/ct_train_1002/ct_train_1002_label.nii.gz'}\n",
      "infer time: 1.841890811920166 sec\n",
      "use post process infer\n",
      "infer test time aug:\n",
      "dice: 0.7037542\n",
      "hd95: 40.16217\n",
      "infer test original:\n",
      "dice: 0.71107846\n",
      "hd95: 72.89719\n",
      "sensitivity: 0.71416956\n",
      "specificity: 0.9969567\n",
      "infer data: {'image': '/nfs/Workspace/CardiacSegV2/dataset/mmwhs2/mmwhs_train/ct_train_1003/ct_train_1003_image.nii.gz', 'label': '/nfs/Workspace/CardiacSegV2/dataset/mmwhs2/mmwhs_train/ct_train_1003/ct_train_1003_label.nii.gz'}\n",
      "infer time: 0.08642292022705078 sec\n",
      "use post process infer\n",
      "infer test time aug:\n",
      "dice: 0.81252366\n",
      "hd95: 33.970577\n",
      "infer test original:\n",
      "dice: 0.81052655\n",
      "hd95: 97.50641\n",
      "sensitivity: 0.85297483\n",
      "specificity: 0.99331313\n",
      "infer data: {'image': '/nfs/Workspace/CardiacSegV2/dataset/mmwhs2/mmwhs_train/ct_train_1004/ct_train_1004_image.nii.gz', 'label': '/nfs/Workspace/CardiacSegV2/dataset/mmwhs2/mmwhs_train/ct_train_1004/ct_train_1004_label.nii.gz'}\n",
      "infer time: 0.048792123794555664 sec\n",
      "use post process infer\n",
      "<class 'monai.transforms.utility.array.AddChannel'>: Class `AddChannel` has been deprecated since version 0.8. It will be removed in version 1.3. please use MetaTensor data type and monai.transforms.EnsureChannelFirst instead with `channel_dim='no_channel'`.\n",
      "infer test time aug:\n",
      "dice: 0.80533624\n",
      "hd95: 16.911535\n",
      "monai.transforms.io.dictionary LoadImaged.__init__:image_only: Current default value of argument `image_only=False` has been deprecated since version 1.1. It will be changed to `image_only=True` in version 1.3.\n",
      "infer test original:\n",
      "dice: 0.8052401\n",
      "hd95: 43.13931\n",
      "sensitivity: 0.89368564\n",
      "specificity: 0.9930349\n",
      "\n",
      "eval result:\n",
      "avg tt dice: 0.76514983\n",
      "avg tt hd95: 28.76106\n",
      "avg inf dice: 0.7658766\n",
      "avg inf hd95: 70.798004\n",
      "avg inf sensitivity: 0.78794247\n",
      "avg inf specificity: 0.99475867\n",
      "avg inf time: 1.120523989200592\n",
      "             patientId  tt_diceC   tt_hd95C  inf_diceC  inf_hd95C  inf_sensitivityC  inf_specificityC  inf_time\n",
      "0  ct_train_1001_image  0.738985  23.999964   0.736661  69.649124          0.690940          0.995730  2.504990\n",
      "1  ct_train_1002_image  0.703754  40.162170   0.711078  72.897186          0.714170          0.996957  1.841891\n",
      "2  ct_train_1003_image  0.812524  33.970577   0.810527  97.506409          0.852975          0.993313  0.086423\n",
      "3  ct_train_1004_image  0.805336  16.911535   0.805240  43.139309          0.893686          0.993035  0.048792\n",
      "Session not detected. You should not be calling `report` outside `tuner.fit()` or while using the class API. \n",
      "  File \"/nfs/Workspace/CardiacSegV2/expers/tune.py\", line 489, in <module>\n",
      "    main_worker(args)\n",
      "  File \"/nfs/Workspace/CardiacSegV2/expers/tune.py\", line 359, in main_worker\n",
      "    tune.report(\n",
      "\n",
      "\u001b[0m"
     ]
    }
   ],
   "source": [
    "# training\n",
    "!PYTHONPATH={workspace_dir} /opt/conda/bin/python {workspace_dir}/expers/tune.py \\\n",
    "--tune_mode={tune_mode} \\\n",
    "--exp_name={exp_name} \\\n",
    "--data_name={data_name} \\\n",
    "--data_dir={data_dir} \\\n",
    "--root_exp_dir={root_exp_dir} \\\n",
    "--model_name={model_name}\\\n",
    "--model_dir={model_dir} \\\n",
    "--log_dir={log_dir} \\\n",
    "--eval_dir={eval_dir} \\\n",
    "--start_epoch=0 \\\n",
    "--val_every=20 \\\n",
    "--max_early_stop_count=20 \\\n",
    "--max_epoch=8000  \\\n",
    "--data_dicts_json={data_dicts_json} \\\n",
    "--pin_memory \\\n",
    "--out_channels=2 \\\n",
    "--patch_size=4 \\\n",
    "--feature_size=48 \\\n",
    "--drop_rate=0.1 \\\n",
    "--depths 3 3 9 3 \\\n",
    "--kernel_size 7 \\\n",
    "--exp_rate 4 \\\n",
    "--norm_name='layer' \\\n",
    "--a_min=-70 \\\n",
    "--a_max=677 \\\n",
    "--space_x=1.0 \\\n",
    "--space_y=1.0 \\\n",
    "--space_z=1.0 \\\n",
    "--roi_x=96 \\\n",
    "--roi_y=96 \\\n",
    "--roi_z=96 \\\n",
    "--optim='AdamW' \\\n",
    "--lr=5e-4 \\\n",
    "--weight_decay=5e-4 \\\n",
    "--checkpoint={final_checkpoint} \\\n",
    "--use_init_weights \\\n",
    "--infer_post_process \\\n",
    "--resume_tuner \\\n",
    "--test_mode \\\n",
    "--save_eval_csv"
   ]
  },
  {
   "cell_type": "markdown",
   "metadata": {
    "id": "UmzrquOuZKk7"
   },
   "source": [
    "## Analysis"
   ]
  },
  {
   "cell_type": "code",
   "execution_count": null,
   "metadata": {},
   "outputs": [],
   "source": [
    "!PYTHONPATH=/nfs/Workspace/CardiacSeg /opt/conda/bin/python /nfs/Workspace/CardiacSeg/expers/tune_anal.py \\\n",
    "--exp_name={exp_name} \\\n",
    "--local_dir={root_exp_dir}"
   ]
  }
 ],
 "metadata": {
  "colab": {
   "collapsed_sections": [],
   "provenance": []
  },
  "gpuClass": "standard",
  "kernelspec": {
   "display_name": "Python 3 (ipykernel)",
   "language": "python",
   "name": "python3"
  },
  "language_info": {
   "codemirror_mode": {
    "name": "ipython",
    "version": 3
   },
   "file_extension": ".py",
   "mimetype": "text/x-python",
   "name": "python",
   "nbconvert_exporter": "python",
   "pygments_lexer": "ipython3",
   "version": "3.8.10"
  }
 },
 "nbformat": 4,
 "nbformat_minor": 4
}
