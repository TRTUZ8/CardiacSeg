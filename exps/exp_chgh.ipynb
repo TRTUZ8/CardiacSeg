{
 "cells": [
  {
   "cell_type": "code",
   "execution_count": null,
   "metadata": {
    "id": "nmnP0OoaJ4pP"
   },
   "outputs": [],
   "source": [
    "!nvidia-smi"
   ]
  },
  {
   "cell_type": "markdown",
   "metadata": {
    "id": "EaIVNeQDIdaB"
   },
   "source": [
    "## Setup environment"
   ]
  },
  {
   "cell_type": "code",
   "execution_count": null,
   "metadata": {
    "colab": {
     "base_uri": "https://localhost:8080/"
    },
    "executionInfo": {
     "elapsed": 58587,
     "status": "ok",
     "timestamp": 1667727198633,
     "user": {
      "displayName": "22",
      "userId": "12730652554089239437"
     },
     "user_tz": -480
    },
    "id": "Oj2GFXrhLdJ9",
    "outputId": "6330e29a-38e7-43a1-d5a2-bddf86d9d07d",
    "tags": []
   },
   "outputs": [],
   "source": [
    "# sync python module\n",
    "%load_ext autoreload\n",
    "%autoreload 2"
   ]
  },
  {
   "cell_type": "markdown",
   "metadata": {
    "id": "wjHHXsxrY_GO",
    "tags": []
   },
   "source": [
    "## Setup config"
   ]
  },
  {
   "cell_type": "code",
   "execution_count": 12,
   "metadata": {
    "id": "IWG1M4NMYniV"
   },
   "outputs": [
    {
     "name": "stdout",
     "output_type": "stream",
     "text": [
      "/nfs/Workspace/CardiacSegV2/exps/exps/testnet/chgh\n"
     ]
    }
   ],
   "source": [
    "import os\n",
    "\n",
    "workspace_dir = '/nfs/Workspace/CardiacSegV2'\n",
    "model_name = 'testnet' #unet3d attention_unet DynUNet cotr unetr swinunetr unetcnx_a1 unest testnet\n",
    "data_name = 'chgh'\n",
    "sub_data_dir_name = 'dataset_3'\n",
    "exp_name = 'exp_12_4_4_3' \n",
    "data_dict_file_name = 'exp_12_4_4_3.json' \n",
    "\n",
    "\n",
    "tune_mode = 'train'\n",
    "\n",
    "# set exp dir\n",
    "root_exp_dir = os.path.join(\n",
    "    workspace_dir, \n",
    "    'exps',\n",
    "    'exps',\n",
    "    model_name,\n",
    "    data_name,\n",
    "    'tune_results'\n",
    ")\n",
    "\n",
    "# set data dir\n",
    "root_data_dir = os.path.join(\n",
    "    workspace_dir, \n",
    "    'dataset',\n",
    "    data_name\n",
    ")\n",
    "data_dir = os.path.join(root_data_dir, sub_data_dir_name)\n",
    "\n",
    "# data dict json path\n",
    "data_dicts_json = os.path.join(workspace_dir, 'exps', 'data_dicts', data_name, data_dict_file_name)\n",
    "\n",
    "# set model, log, eval dir\n",
    "model_dir = os.path.join('./', 'models')\n",
    "log_dir = os.path.join('./', 'logs')\n",
    "eval_dir = os.path.join('./', 'evals')\n",
    "\n",
    "# model path\n",
    "best_checkpoint = os.path.join(model_dir, 'best_model.pth')\n",
    "final_checkpoint = os.path.join(model_dir, 'final_model.pth')\n",
    "\n",
    "# mkdir root exp dir\n",
    "os.makedirs(root_exp_dir, exist_ok=True)\n",
    "\n",
    "# for pretrain\n",
    "pretrain_exp_name = 'exp_50'\n",
    "pretrain_data_name = 'image_cas'\n",
    "pretrain_model_dir = os.path.join(\n",
    "    workspace_dir,\n",
    "    'exps',\n",
    "    'exps',\n",
    "    model_name,\n",
    "    pretrain_data_name,\n",
    "    'pretrain',\n",
    "    pretrain_exp_name,\n",
    "    'models'\n",
    ")\n",
    "pretrain_checkpoint = os.path.join(pretrain_model_dir, 'model_bestValRMSE.pt')\n",
    "\n",
    "%cd {root_exp_dir}/../"
   ]
  },
  {
   "cell_type": "markdown",
   "metadata": {
    "id": "3dfeJTv8ZETs",
    "tags": []
   },
   "source": [
    "## Train TestNet"
   ]
  },
  {
   "cell_type": "code",
   "execution_count": 13,
   "metadata": {},
   "outputs": [
    {
     "name": "stdout",
     "output_type": "stream",
     "text": [
      "Package pickle5 becomes unnecessary in Python 3.8 and above. Its presence may confuse libraries including Ray. Please uninstall the package.\n",
      "test mode\n",
      "resume tuner form /nfs/Workspace/CardiacSegV2/exps/exps/testnet/chgh/tune_results\n",
      "Passing in the experiment's `trainable` will be a required argument to `Tuner.restore` starting from version 2.5. Please specify the trainable to avoid this warning.\n",
      "run test mode ...\n",
      "cuda is available\n",
      "model: testnet\n",
      "patch size: 2\n",
      "ker size: 7\n",
      "exp rate: 4\n",
      "feature sizes: [48, 96, 192, 384]\n",
      "depths: [3, 3, 9, 3]\n",
      "drop rate: 0.1\n",
      "use init weights: True\n",
      "is conv stem: False\n",
      "use init weights\n",
      "skip encoder: None\n",
      "use deep sup\n",
      "loss: dice ce loss\n",
      "optimzer: AdamW\n",
      "{'lr': 0.002, 'weight_decay': 0.0005}\n",
      "=> loaded checkpoint '/nfs/Workspace/CardiacSegV2/exps/exps/testnet/chgh/tune_results/exp_12_4_4_3_lr1/main_81b67_00000_0_exp=exp_exp_12_4_4_3_lr1_2024-06-11_07-02-03/models/best_model.pth' (epoch 21) (bestacc 0.8496532440185547) (early stop count 0)\n",
      "load json from /nfs/Workspace/CardiacSegV2/exps/data_dicts/chgh/exp_12_4_4_3.json\n",
      "train files (12): ['pid_corcta', 'pid_05', 'pid_08', 'pid_27', 'pid_34', 'pid_52', 'pid_56', 'pid_57', 'pid_106', 'pid_110', 'pid_1002', 'pid_1003']\n",
      "val files (4): ['pid_08_1', 'pid_21', 'pid_107', 'pid_108']\n",
      "test files (4): ['pid_02', 'pid_07', 'pid_31', 'pid_1000']\n",
      "infer data: {'image': '/nfs/Workspace/CardiacSegV2/dataset/chgh/dataset_3/pid_02/pid_02.nii.gz', 'label': '/nfs/Workspace/CardiacSegV2/dataset/chgh/dataset_3/pid_02/pid_02_gt.nii.gz'}\n",
      "monai.transforms.io.dictionary LoadImaged.__init__:image_only: Current default value of argument `image_only=False` has been deprecated since version 1.1. It will be changed to `image_only=True` in version 1.3.\n",
      "<class 'monai.transforms.utility.dictionary.AddChanneld'>: Class `AddChanneld` has been deprecated since version 0.8. It will be removed in version 1.3. please use MetaTensor data type and monai.transforms.EnsureChannelFirstd instead with `channel_dim='no_channel'`.\n",
      "monai.transforms.utility.dictionary EnsureChannelFirstd.__init__:meta_keys: Argument `meta_keys` has been deprecated since version 0.9. not needed if image is type `MetaTensor`.\n",
      "infer time: 6.067442178726196 sec\n",
      "use post process infer\n",
      "<class 'monai.transforms.utility.array.AddChannel'>: Class `AddChannel` has been deprecated since version 0.8. It will be removed in version 1.3. please use MetaTensor data type and monai.transforms.EnsureChannelFirst instead with `channel_dim='no_channel'`.\n",
      "infer test time aug:\n",
      "dice: 0.81340635\n",
      "hd95: 8.062258\n",
      "infer test original:\n",
      "dice: 0.8120084\n",
      "hd95: 20.22375\n",
      "sensitivity: 0.7447161\n",
      "specificity: 0.9943013\n",
      "infer data: {'image': '/nfs/Workspace/CardiacSegV2/dataset/chgh/dataset_3/pid_07/pid_07.nii.gz', 'label': '/nfs/Workspace/CardiacSegV2/dataset/chgh/dataset_3/pid_07/pid_07_new.nii.gz'}\n",
      "^C\n"
     ]
    }
   ],
   "source": [
    "# training\n",
    "!PYTHONPATH={workspace_dir} /opt/conda/bin/python {workspace_dir}/expers/tune.py \\\n",
    "--tune_mode={tune_mode} \\\n",
    "--exp_name={exp_name} \\\n",
    "--data_name={data_name} \\\n",
    "--data_dir={data_dir} \\\n",
    "--root_exp_dir={root_exp_dir} \\\n",
    "--model_name={model_name}\\\n",
    "--model_dir={model_dir} \\\n",
    "--log_dir={log_dir} \\\n",
    "--eval_dir={eval_dir} \\\n",
    "--start_epoch=0 \\\n",
    "--val_every=20 \\\n",
    "--max_early_stop_count=20 \\\n",
    "--max_epoch=8000  \\\n",
    "--data_dicts_json={data_dicts_json} \\\n",
    "--pin_memory \\\n",
    "--out_channels=2 \\\n",
    "--patch_size=2 \\\n",
    "--feature_size=48 \\\n",
    "--drop_rate=0.1 \\\n",
    "--depths 3 3 9 3 \\\n",
    "--kernel_size 7 \\\n",
    "--exp_rate 4 \\\n",
    "--norm_name='layer' \\\n",
    "--a_min=-42 \\\n",
    "--a_max=423 \\\n",
    "--space_x=0.7 \\\n",
    "--space_y=0.7 \\\n",
    "--space_z=1.0 \\\n",
    "--roi_x=128 \\\n",
    "--roi_y=128 \\\n",
    "--roi_z=128 \\\n",
    "--optim='AdamW' \\\n",
    "--lr=2e-3 \\\n",
    "--weight_decay=5e-4 \\\n",
    "--checkpoint={final_checkpoint} \\\n",
    "--use_init_weights \\\n",
    "--infer_post_process \\\n",
    "--deep_sup \\\n",
    "--resume_tuner \\\n",
    "--test_mode \\\n",
    "--save_eval_csv"
   ]
  },
  {
   "cell_type": "markdown",
   "metadata": {
    "id": "3dfeJTv8ZETs",
    "tags": []
   },
   "source": [
    "## Train UNETCNX"
   ]
  },
  {
   "cell_type": "code",
   "execution_count": null,
   "metadata": {
    "colab": {
     "base_uri": "https://localhost:8080/"
    },
    "executionInfo": {
     "elapsed": 5212593,
     "status": "ok",
     "timestamp": 1667732466402,
     "user": {
      "displayName": "22",
      "userId": "12730652554089239437"
     },
     "user_tz": -480
    },
    "id": "Pc5UecWCYizV",
    "outputId": "92365bec-cd7e-4561-b607-43d9f3520dd9",
    "tags": []
   },
   "outputs": [],
   "source": [
    "# training\n",
    "!PYTHONPATH={workspace_dir} /opt/conda/bin/python {workspace_dir}/expers/tune.py \\\n",
    "--tune_mode={tune_mode} \\\n",
    "--exp_name={exp_name} \\\n",
    "--data_name={data_name} \\\n",
    "--data_dir={data_dir} \\\n",
    "--root_exp_dir={root_exp_dir} \\\n",
    "--model_name={model_name}\\\n",
    "--model_dir={model_dir} \\\n",
    "--log_dir={log_dir} \\\n",
    "--eval_dir={eval_dir} \\\n",
    "--start_epoch=0 \\\n",
    "--val_every=20 \\\n",
    "--max_early_stop_count=20 \\\n",
    "--max_epoch=8000  \\\n",
    "--data_dicts_json={data_dicts_json} \\\n",
    "--pin_memory \\\n",
    "--out_channels=2 \\\n",
    "--patch_size=4 \\\n",
    "--feature_size=48 \\\n",
    "--drop_rate=0.1 \\\n",
    "--depths 3 3 9 3 \\\n",
    "--kernel_size 7 \\\n",
    "--exp_rate 4 \\\n",
    "--norm_name='layer' \\\n",
    "--a_min=-42 \\\n",
    "--a_max=423 \\\n",
    "--space_x=0.7 \\\n",
    "--space_y=0.7 \\\n",
    "--space_z=1.0 \\\n",
    "--roi_x=128 \\\n",
    "--roi_y=128 \\\n",
    "--roi_z=128 \\\n",
    "--optim='AdamW' \\\n",
    "--lr=7e-4 \\\n",
    "--weight_decay=5e-4 \\\n",
    "--checkpoint={final_checkpoint} \\\n",
    "--use_init_weights \\\n",
    "--infer_post_process \\\n",
    "--deep_sup \\\n",
    "--resume_tuner \\\n",
    "--test_mode \\\n",
    "--save_eval_csv"
   ]
  },
  {
   "cell_type": "markdown",
   "metadata": {},
   "source": [
    "## Train other models"
   ]
  },
  {
   "cell_type": "code",
   "execution_count": 9,
   "metadata": {},
   "outputs": [
    {
     "name": "stdout",
     "output_type": "stream",
     "text": [
      "Package pickle5 becomes unnecessary in Python 3.8 and above. Its presence may confuse libraries including Ray. Please uninstall the package.\n",
      "test mode\n",
      "resume tuner form /nfs/Workspace/CardiacSeg/exps/exps/unest/chgh/tune_results\n",
      "Passing in the experiment's `trainable` will be a required argument to `Tuner.restore` starting from version 2.5. Please specify the trainable to avoid this warning.\n",
      "run test mode ...\n",
      "cuda is available\n",
      "model: unest\n",
      "loss: dice ce loss\n",
      "optimzer: AdamW\n",
      "{'lr': 0.0001, 'weight_decay': 0.0005}\n",
      "=> loaded checkpoint '/nfs/Workspace/CardiacSeg/exps/exps/unest/chgh/tune_results/exp_12_4_4_3_lr1/main_51c07_00000_0_exp=exp_exp_12_4_4_3_lr1_2024-05-28_16-21-21/models/best_model.pth' (epoch 1041) (bestacc 0.8924118280410767) (early stop count 0)\n",
      "load json from /nfs/Workspace/CardiacSeg/exps/data_dicts/chgh/exp_12_4_4_3.json\n",
      "train files (12): ['pid_corcta', 'pid_05', 'pid_08', 'pid_27', 'pid_34', 'pid_52', 'pid_56', 'pid_57', 'pid_106', 'pid_110', 'pid_1002', 'pid_1003']\n",
      "val files (4): ['pid_08_1', 'pid_21', 'pid_107', 'pid_108']\n",
      "test files (4): ['pid_02', 'pid_07', 'pid_31', 'pid_1000']\n",
      "infer data: {'image': '/nfs/Workspace/CardiacSeg/dataset/chgh/dataset_2/pid_02/pid_02.nii.gz', 'label': '/nfs/Workspace/CardiacSeg/dataset/chgh/dataset_2/pid_02/pid_02_gt.nii.gz'}\n",
      "monai.transforms.io.dictionary LoadImaged.__init__:image_only: Current default value of argument `image_only=False` has been deprecated since version 1.1. It will be changed to `image_only=True` in version 1.3.\n",
      "<class 'monai.transforms.utility.dictionary.AddChanneld'>: Class `AddChanneld` has been deprecated since version 0.8. It will be removed in version 1.3. please use MetaTensor data type and monai.transforms.EnsureChannelFirstd instead with `channel_dim='no_channel'`.\n",
      "monai.transforms.utility.dictionary EnsureChannelFirstd.__init__:meta_keys: Argument `meta_keys` has been deprecated since version 0.9. not needed if image is type `MetaTensor`.\n",
      "infer time: 3.9062578678131104 sec\n",
      "use post process infer\n",
      "<class 'monai.transforms.utility.array.AddChannel'>: Class `AddChannel` has been deprecated since version 0.8. It will be removed in version 1.3. please use MetaTensor data type and monai.transforms.EnsureChannelFirst instead with `channel_dim='no_channel'`.\n",
      "infer test time aug:\n",
      "dice: 0.90161914\n",
      "hd95: 3.6055512\n",
      "infer test original:\n",
      "dice: 0.89219886\n",
      "hd95: 7.8740077\n",
      "sensitivity: 0.8713471\n",
      "specificity: 0.9947869\n",
      "infer data: {'image': '/nfs/Workspace/CardiacSeg/dataset/chgh/dataset_2/pid_07/pid_07.nii.gz', 'label': '/nfs/Workspace/CardiacSeg/dataset/chgh/dataset_2/pid_07/pid_07_new.nii.gz'}\n",
      "infer time: 2.064470052719116 sec\n",
      "use post process infer\n",
      "infer test time aug:\n",
      "dice: 0.8603212\n",
      "hd95: 15.132746\n",
      "infer test original:\n",
      "dice: 0.8713656\n",
      "hd95: 30.88689\n",
      "sensitivity: 0.8189897\n",
      "specificity: 0.99614835\n",
      "infer data: {'image': '/nfs/Workspace/CardiacSeg/dataset/chgh/dataset_2/pid_31/pid_31.nii.gz', 'label': '/nfs/Workspace/CardiacSeg/dataset/chgh/dataset_2/pid_31/pid_31_newnew.nii.gz'}\n",
      "infer time: 2.1275360584259033 sec\n",
      "use post process infer\n",
      "infer test time aug:\n",
      "dice: 0.8991071\n",
      "hd95: 3.0\n",
      "infer test original:\n",
      "dice: 0.9060143\n",
      "hd95: 6.3245554\n",
      "sensitivity: 0.8684895\n",
      "specificity: 0.99767864\n",
      "infer data: {'image': '/nfs/Workspace/CardiacSeg/dataset/chgh/dataset_2/pid_1000/pid_1000.nii.gz', 'label': '/nfs/Workspace/CardiacSeg/dataset/chgh/dataset_2/pid_1000/pid_1000_gt.nii.gz'}\n",
      "infer time: 2.1841623783111572 sec\n",
      "use post process infer\n",
      "infer test time aug:\n",
      "dice: 0.91041005\n",
      "hd95: 4.2426405\n",
      "infer test original:\n",
      "dice: 0.8976579\n",
      "hd95: 10.0\n",
      "sensitivity: 0.8714442\n",
      "specificity: 0.99463606\n",
      "\n",
      "eval result:\n",
      "avg tt dice: 0.89286435\n",
      "avg tt hd95: 6.4952345\n",
      "avg inf dice: 0.89180917\n",
      "avg inf hd95: 13.771363\n",
      "avg inf sensitivity: 0.85756767\n",
      "avg inf specificity: 0.99581254\n",
      "avg inf time: 2.5706065893173218\n",
      "  patientId  tt_diceC   tt_hd95C  inf_diceC  inf_hd95C  inf_sensitivityC  inf_specificityC  inf_time\n",
      "0    pid_02  0.901619   3.605551   0.892199   7.874008          0.871347          0.994787  3.906258\n",
      "1    pid_07  0.860321  15.132746   0.871366  30.886890          0.818990          0.996148  2.064470\n",
      "2    pid_31  0.899107   3.000000   0.906014   6.324555          0.868490          0.997679  2.127536\n",
      "3  pid_1000  0.910410   4.242640   0.897658  10.000000          0.871444          0.994636  2.184162\n",
      "Session not detected. You should not be calling `report` outside `tuner.fit()` or while using the class API. \n",
      "  File \"/nfs/Workspace/CardiacSeg/expers/tune.py\", line 489, in <module>\n",
      "    main_worker(args)\n",
      "  File \"/nfs/Workspace/CardiacSeg/expers/tune.py\", line 359, in main_worker\n",
      "    tune.report(\n",
      "\n",
      "\u001b[0m"
     ]
    }
   ],
   "source": [
    "# training\n",
    "!PYTHONPATH={workspace_dir} /opt/conda/bin/python {workspace_dir}/expers/tune.py \\\n",
    "--tune_mode={tune_mode} \\\n",
    "--exp_name={exp_name} \\\n",
    "--data_name={data_name} \\\n",
    "--data_dir={data_dir} \\\n",
    "--root_exp_dir={root_exp_dir} \\\n",
    "--model_name={model_name}\\\n",
    "--model_dir={model_dir} \\\n",
    "--log_dir={log_dir} \\\n",
    "--eval_dir={eval_dir} \\\n",
    "--start_epoch=0 \\\n",
    "--val_every=20 \\\n",
    "--max_early_stop_count=20 \\\n",
    "--max_epoch=8000  \\\n",
    "--data_dicts_json={data_dicts_json} \\\n",
    "--pin_memory \\\n",
    "--out_channels=2 \\\n",
    "--patch_size=4 \\\n",
    "--feature_size=48 \\\n",
    "--drop_rate=0.1 \\\n",
    "--depths 3 3 9 3 \\\n",
    "--kernel_size 7 \\\n",
    "--exp_rate 4 \\\n",
    "--norm_name='layer' \\\n",
    "--a_min=-42 \\\n",
    "--a_max=423 \\\n",
    "--space_x=0.7 \\\n",
    "--space_y=0.7 \\\n",
    "--space_z=1.0 \\\n",
    "--roi_x=128 \\\n",
    "--roi_y=128 \\\n",
    "--roi_z=128 \\\n",
    "--optim='AdamW' \\\n",
    "--lr=1e-4 \\\n",
    "--weight_decay=5e-4 \\\n",
    "--checkpoint={final_checkpoint} \\\n",
    "--use_init_weights \\\n",
    "--infer_post_process \\\n",
    "--resume_tuner \\\n",
    "--save_eval_csv \\\n",
    "--test_mode"
   ]
  },
  {
   "cell_type": "markdown",
   "metadata": {
    "id": "UmzrquOuZKk7"
   },
   "source": [
    "## Analysis"
   ]
  },
  {
   "cell_type": "code",
   "execution_count": null,
   "metadata": {},
   "outputs": [],
   "source": [
    "!PYTHONPATH=/nfs/Workspace/CardiacSeg /opt/conda/bin/python /nfs/Workspace/CardiacSeg/expers/tune_anal.py \\\n",
    "--exp_name={exp_name} \\\n",
    "--local_dir={root_exp_dir}"
   ]
  }
 ],
 "metadata": {
  "colab": {
   "collapsed_sections": [],
   "provenance": []
  },
  "gpuClass": "standard",
  "kernelspec": {
   "display_name": "Python 3 (ipykernel)",
   "language": "python",
   "name": "python3"
  },
  "language_info": {
   "codemirror_mode": {
    "name": "ipython",
    "version": 3
   },
   "file_extension": ".py",
   "mimetype": "text/x-python",
   "name": "python",
   "nbconvert_exporter": "python",
   "pygments_lexer": "ipython3",
   "version": "3.8.10"
  }
 },
 "nbformat": 4,
 "nbformat_minor": 4
}
